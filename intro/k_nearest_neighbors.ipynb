{
  "nbformat": 4,
  "nbformat_minor": 0,
  "metadata": {
    "colab": {
      "provenance": [],
      "authorship_tag": "ABX9TyPreDzlQDtpak327QkzTszU",
      "include_colab_link": true
    },
    "kernelspec": {
      "name": "python3",
      "display_name": "Python 3"
    },
    "language_info": {
      "name": "python"
    }
  },
  "cells": [
    {
      "cell_type": "markdown",
      "metadata": {
        "id": "view-in-github",
        "colab_type": "text"
      },
      "source": [
        "<a href=\"https://colab.research.google.com/github/sujeengim/mini-ai-study/blob/main/intro/k_nearest_neighbors.ipynb\" target=\"_parent\"><img src=\"https://colab.research.google.com/assets/colab-badge.svg\" alt=\"Open In Colab\"/></a>"
      ]
    },
    {
      "cell_type": "markdown",
      "source": [
        "# 두 종류의 생선 분류 프로그램 1 :\n",
        "## k-최근접 이웃 알고리즘:\n",
        "어떤 데이터에 대한 답을 구할 때 주위의 다른 데이터를 보고 다수를 차지하는 것을 정답으로 사용\n",
        "\n",
        "- 사용\n",
        "1. 데이터 모두 준비\n",
        "2. 새로운 데이터 예측시 가장 가까운 직선거리에 어떤 데이터가 있는지 살핌\n",
        "3. 데이터 많아질 경우 메모리  문제, 직선거리 계산 어려움\n",
        "4. 준비 데이터 수가 차이날 경우 부정확"
      ],
      "metadata": {
        "id": "QtFwdKRQi5tq"
      }
    },
    {
      "cell_type": "code",
      "execution_count": 1,
      "metadata": {
        "id": "_movjtmMiXwZ"
      },
      "outputs": [],
      "source": [
        "# 생선 데이터\n",
        "bream_length = [25.4, 26.3, 26.5, 29.0, 29.0, 29.7, 29.7, 30.0, 30.0, 30.7, 31.0, 31.0,\n",
        "                31.5, 32.0, 32.0, 32.0, 33.0, 33.0, 33.5, 33.5, 34.0, 34.0, 34.5, 35.0,\n",
        "                35.0, 35.0, 35.0, 36.0, 36.0, 37.0, 38.5, 38.5, 39.5, 41.0, 41.0]\n",
        "bream_weight = [242.0, 290.0, 340.0, 363.0, 430.0, 450.0, 500.0, 390.0, 450.0, 500.0, 475.0, 500.0,\n",
        "                500.0, 340.0, 600.0, 600.0, 700.0, 700.0, 610.0, 650.0, 575.0, 685.0, 620.0, 680.0,\n",
        "                700.0, 725.0, 720.0, 714.0, 850.0, 1000.0, 920.0, 955.0, 925.0, 975.0, 950.0]\n",
        "\n",
        "smelt_length = [9.8, 10.5, 10.6, 11.0, 11.2, 11.3, 11.8, 11.8, 12.0, 12.2, 12.4, 13.0, 14.3, 15.0]\n",
        "smelt_weight = [6.7, 7.5, 7.0, 9.7, 9.8, 8.7, 10.0, 9.9, 9.8, 12.2, 13.4, 12.2, 19.7, 19.9]"
      ]
    },
    {
      "cell_type": "code",
      "source": [
        "# 데이터 산점도 그리기\n",
        "import matplotlib.pyplot as plt\n",
        "\n",
        "plt.scatter(bream_length, bream_weight, label='Bream')\n",
        "plt.scatter(smelt_length, smelt_weight, label='Smelt')\n",
        "plt.xlabel('length')\n",
        "plt.ylabel('weight')\n",
        "plt.legend() # 범례\n",
        "plt.show()"
      ],
      "metadata": {
        "colab": {
          "base_uri": "https://localhost:8080/",
          "height": 449
        },
        "id": "vM4rIUG_jatb",
        "outputId": "de79704d-54b2-461b-85ae-d66919e6aa8f"
      },
      "execution_count": 5,
      "outputs": [
        {
          "output_type": "display_data",
          "data": {
            "text/plain": [
              "<Figure size 640x480 with 1 Axes>"
            ],
            "image/png": "[encoded data removed]"
          },
          "metadata": {}
        }
      ]
    },
    {
      "cell_type": "markdown",
      "source": [
        "### 데이터 판단\n",
        "- smelt보다 bream의 무게와 길이가 훨씬 크다.\n",
        "- bream의 길이에 따른 무게 차이가 크다.\n",
        "- smelt는 bream에 비해 길이에 따른 무게 차이가 크지 않다."
      ],
      "metadata": {
        "id": "5h5gf0GRkNVo"
      }
    },
    {
      "cell_type": "code",
      "source": [
        "# 데이터 구분 프로그램 구현\n",
        "\n",
        "length = bream_length + smelt_length\n",
        "weight = bream_weight + smelt_weight\n",
        "\n",
        "# 2차원 리스트 생성\n",
        "fish_data = [[l, w] for l,w in zip(length, weight)]\n",
        "\n",
        "# 정답 데이터 생성\n",
        "fish_target = [1]*35 + [0]*14 #bream35개, smelt14개\n",
        "\n",
        "# k-최근접 이웃 알고리즘 클래스 적용\n",
        "from sklearn.neighbors import KNeighborsClassifier\n",
        "\n",
        "kn5 = KNeighborsClassifier(n_neighbors=5) #주위 참고 데이터  5개\n",
        "\n",
        "# 훈련: 분류 기준 학습시키기->규칙 찾기\n",
        "kn5.fit(fish_data, fish_target)\n",
        "\n",
        "# 모델(머신러닝 알고리즘을 구현한 프로그램) 평가\n",
        "acc = kn5.score(fish_data, fish_target) #정확도 accuracy\n",
        "\n",
        "print('정확도:', acc)"
      ],
      "metadata": {
        "colab": {
          "base_uri": "https://localhost:8080/"
        },
        "id": "kijypOCYkIE8",
        "outputId": "fc05b588-cc30-41bf-f077-f4fa69db455b"
      },
      "execution_count": 10,
      "outputs": [
        {
          "output_type": "stream",
          "name": "stdout",
          "text": [
            "정확도: 1.0\n"
          ]
        }
      ]
    },
    {
      "cell_type": "code",
      "source": [
        "# 새로운 데이터 예측\n",
        "kn5.predict([[30, 600]]) #그래프 상 bream"
      ],
      "metadata": {
        "colab": {
          "base_uri": "https://localhost:8080/"
        },
        "id": "hlL3PUvVqb3r",
        "outputId": "5a9c6eca-0a0f-49da-9d9f-33b820d975cf"
      },
      "execution_count": 12,
      "outputs": [
        {
          "output_type": "execute_result",
          "data": {
            "text/plain": [
              "array([1])"
            ]
          },
          "metadata": {},
          "execution_count": 12
        }
      ]
    },
    {
      "cell_type": "code",
      "source": [],
      "metadata": {
        "id": "Jr1F07pgql45"
      },
      "execution_count": 11,
      "outputs": []
    }
  ]
}